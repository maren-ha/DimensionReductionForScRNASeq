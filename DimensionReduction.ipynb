{
 "cells": [
  {
   "attachments": {},
   "cell_type": "markdown",
   "metadata": {},
   "source": [
    "# Dimension reduction for single-cell RNA-seq data \n",
    "\n",
    "### MeInBio Methods Snack, February 27, 2023\n",
    "\n",
    "***Maren Hackenberg***"
   ]
  },
  {
   "cell_type": "markdown",
   "metadata": {},
   "source": [
    "## What's it all about? \n",
    "\n",
    "- Intro \n",
    "- Taking a closer look \n",
    "  - PCA \n",
    "  - UMAP\n",
    "  - tSNE\n",
    "  - scVI\n",
    "- Seeing them in action "
   ]
  },
  {
   "cell_type": "markdown",
   "metadata": {},
   "source": [
    "## Introduction \n",
    "\n",
    "![](images/dimred_cartoon.png)"
   ]
  },
  {
   "cell_type": "markdown",
   "metadata": {},
   "source": [
    "## Some examples from papers \n",
    "\n",
    "![](images/nature_search.png)\n",
    "\n",
    "**Fig. 4a from [Zheng, M., Hu, Z., Mei, X. et al. Single-cell sequencing shows cellular heterogeneity of cutaneous lesions in lupus erythematosus. Nat Commun 13, 7489 (2022).](https://doi.org/10.1038/s41467-022-35209-1)**\n",
    "\n",
    "![](images/tSNE1.png)\n",
    "\n",
    "**Fig. 2a,b from [Cao, K., Gong, Q., Hong, Y. et al. A unified computational framework for single-cell data integration with optimal transport. Nat Commun 13, 7419 (2022).](https://doi.org/10.1038/s41467-022-35094-8)**\n",
    "\n",
    "![](images/uniPort.png)\n",
    "\n",
    "**Fig. 1e-j from [Vistain, L., Van Phan, H., Keisham, B. et al. Quantification of extracellular proteins, protein complexes and mRNAs in single cells by proximity sequencing. Nat Methods 19, 1578–1589 (2022).](https://doi.org/10.1038/s41592-022-01684-z)**\n",
    "\n",
    "![](images/tSNEPCA.png)\n",
    "\n",
    "**Fig. 1d from [Jessa, S., Mohammadnia, A., Harutyunyan, A.S. et al. K27M in canonical and noncanonical H3 variants occurs in distinct oligodendroglial cell lineages in brain midline gliomas. Nat Genet (2022).](https://doi.org/10.1038/s41588-022-01205-w)**\n",
    "\n",
    "![](NatGenUMAP.png)\n",
    "\n"
   ]
  },
  {
   "cell_type": "markdown",
   "metadata": {},
   "source": [
    "## Getting some data"
   ]
  },
  {
   "cell_type": "code",
   "execution_count": null,
   "metadata": {},
   "outputs": [],
   "source": [
    "# pip install ipykernel\n",
    "import sys\n",
    "!{sys.executable} -m pip install numpy\n",
    "!{sys.executable} -m pip install anndata\n",
    "!{sys.executable} -m pip install scvi-tools\n",
    "!{sys.executable} -m pip install umap-learn \n",
    "!{sys.executable} -m pip install scanpy\n",
    "!{sys.executable} -m pip install scikit-misc\n",
    "!{sys.executable} -m pip install leidenalg"
   ]
  },
  {
   "cell_type": "markdown",
   "metadata": {},
   "source": [
    "**1) Download data:**"
   ]
  },
  {
   "cell_type": "code",
   "execution_count": null,
   "metadata": {},
   "outputs": [],
   "source": [
    "import os \n",
    "os.chdir(\"/Users/imbi-mac-102/Desktop/MeInBioProject/MethodsSnack/\")"
   ]
  },
  {
   "cell_type": "code",
   "execution_count": null,
   "metadata": {},
   "outputs": [],
   "source": [
    "!mkdir data\n",
    "!wget http://cf.10xgenomics.com/samples/cell-exp/1.1.0/pbmc3k/pbmc3k_filtered_gene_bc_matrices.tar.gz -O data/pbmc3k_filtered_gene_bc_matrices.tar.gz\n",
    "!cd data; tar -xzf pbmc3k_filtered_gene_bc_matrices.tar.gz\n",
    "!mkdir write"
   ]
  },
  {
   "cell_type": "markdown",
   "metadata": {},
   "source": [
    "**2) Initialise `AnnData` object**"
   ]
  },
  {
   "cell_type": "code",
   "execution_count": null,
   "metadata": {},
   "outputs": [],
   "source": [
    "import anndata \n",
    "import numpy as np \n",
    "import scanpy as sc\n",
    "import pandas as pd \n",
    "\n",
    "results_file = \"data/pbmc3k.h5ad\"\n",
    "adata = sc.read_10x_mtx(\n",
    "    \"data/filtered_gene_bc_matrices/hg19/\",  # the directory with the `.mtx` file\n",
    "    var_names=\"gene_symbols\",                # use gene symbols for the variable names (variables-axis index)\n",
    "    cache=True)\n",
    "adata.var_names_make_unique()\n",
    "adata.raw = adata\n",
    "adata"
   ]
  },
  {
   "cell_type": "markdown",
   "metadata": {},
   "source": [
    "## Some basic preprocessing \n",
    "\n",
    "**Show genes with highest fraction of counts in each single cell and do basic filtering:**"
   ]
  },
  {
   "cell_type": "code",
   "execution_count": null,
   "metadata": {},
   "outputs": [],
   "source": [
    "sc.pl.highest_expr_genes(adata, n_top=20, )"
   ]
  },
  {
   "cell_type": "code",
   "execution_count": null,
   "metadata": {},
   "outputs": [],
   "source": [
    "sc.pp.filter_cells(adata, min_genes=200)\n",
    "sc.pp.filter_genes(adata, min_cells=3)"
   ]
  },
  {
   "cell_type": "markdown",
   "metadata": {},
   "source": [
    "**Some quality control metrics:**"
   ]
  },
  {
   "cell_type": "code",
   "execution_count": null,
   "metadata": {},
   "outputs": [],
   "source": [
    "adata.var['mt'] = adata.var_names.str.startswith('MT-')  # annotate the group of mitochondrial genes as 'mt'\n",
    "sc.pp.calculate_qc_metrics(adata, qc_vars=['mt'], percent_top=None, log1p=False, inplace=True)\n",
    "sc.pl.violin(adata, ['n_genes_by_counts', 'total_counts', 'pct_counts_mt'],\n",
    "             jitter=0.4, multi_panel=True)"
   ]
  },
  {
   "cell_type": "code",
   "execution_count": null,
   "metadata": {},
   "outputs": [],
   "source": [
    "sc.pl.scatter(adata, x='total_counts', y='pct_counts_mt')\n",
    "sc.pl.scatter(adata, x='total_counts', y='n_genes_by_counts')"
   ]
  },
  {
   "cell_type": "markdown",
   "metadata": {},
   "source": [
    "**Remove cells with too many mitochondrial genes expressed or too many total counts:**"
   ]
  },
  {
   "cell_type": "code",
   "execution_count": null,
   "metadata": {},
   "outputs": [],
   "source": [
    "adata = adata[adata.obs.n_genes_by_counts < 2500, :]\n",
    "adata = adata[adata.obs.pct_counts_mt < 5, :]"
   ]
  },
  {
   "cell_type": "markdown",
   "metadata": {},
   "source": [
    "**Normalize and log-transform:**"
   ]
  },
  {
   "cell_type": "code",
   "execution_count": null,
   "metadata": {},
   "outputs": [],
   "source": [
    "adata.layers[\"counts\"] = adata.X\n",
    "sc.pp.normalize_total(adata, target_sum=1e4)\n",
    "sc.pp.log1p(adata)"
   ]
  },
  {
   "cell_type": "code",
   "execution_count": null,
   "metadata": {},
   "outputs": [],
   "source": [
    "adata"
   ]
  },
  {
   "cell_type": "markdown",
   "metadata": {},
   "source": [
    "**Identify highly variable genes:** "
   ]
  },
  {
   "cell_type": "code",
   "execution_count": null,
   "metadata": {},
   "outputs": [],
   "source": [
    "sc.pp.highly_variable_genes(adata, min_mean=0.0125, max_mean=3, min_disp=0.5)\n",
    "sc.pl.highly_variable_genes(adata)"
   ]
  },
  {
   "cell_type": "code",
   "execution_count": null,
   "metadata": {},
   "outputs": [],
   "source": [
    "adata"
   ]
  },
  {
   "cell_type": "code",
   "execution_count": null,
   "metadata": {},
   "outputs": [],
   "source": [
    "adata.obs"
   ]
  },
  {
   "cell_type": "code",
   "execution_count": null,
   "metadata": {},
   "outputs": [],
   "source": [
    "adata.var"
   ]
  },
  {
   "cell_type": "code",
   "execution_count": null,
   "metadata": {},
   "outputs": [],
   "source": [
    "sc.pp.neighbors(adata, n_neighbors=10, n_pcs=40)\n",
    "sc.tl.leiden(adata)\n",
    "#sc.tl.paga(adata)\n",
    "#sc.pl.paga(adata)"
   ]
  },
  {
   "attachments": {},
   "cell_type": "markdown",
   "metadata": {},
   "source": [
    "The result of the previous highly-variable-genes detection is stored as an annotation in `.var.highly_variable` and auto-detected by PCA and hence, `sc.pp.neighbors` and subsequent manifold/graph tools. In that case, the step \"actually do the filtering\" below is unnecessary, too."
   ]
  },
  {
   "cell_type": "code",
   "execution_count": null,
   "metadata": {},
   "outputs": [],
   "source": [
    "# actually do the filtering\n",
    "# adata = adata[:, adata.var.highly_variable]\n",
    "# sc.pp.regress_out(adata, ['total_counts', 'pct_counts_mt'])\n",
    "# sc.pp.scale(adata, max_value=10)"
   ]
  },
  {
   "cell_type": "code",
   "execution_count": null,
   "metadata": {},
   "outputs": [],
   "source": [
    "#import pandas as pd\n",
    "#import numpy as np\n",
    "#cluster_labels = pd.read_csv(\"data/pbmc8k/PBMC8k_clust_annotation.csv\", dtype=\"str\", usecols=[\"x\"])\n",
    "# PBMC8k \n",
    "# data downloaded from https://www.10xgenomics.com/resources/datasets/8-k-pbm-cs-from-a-healthy-donor-2-standard-2-0-1 (\"gene-cell matrix filtered\")\n",
    "#adata_pbmc = anndata.read_csv(\"data/pbmc8k/PBMC8k_counts.csv\")\n",
    "#adata_pbmc.layers[\"log_counts\"] = np.log1p(adata_pbmc.X)\n",
    "#adata_pbmc.layers[\"counts\"] = adata_pbmc.X\n",
    "#adata_pbmc.obs[\"cell_type\"] = cluster_labels\n",
    "#adata_pbmc"
   ]
  },
  {
   "cell_type": "markdown",
   "metadata": {},
   "source": [
    "## Principal Component Analysis (PCA)\n",
    "\n",
    "For a detailed explanation, I can recommend this: \n",
    "https://www.huber.embl.de/msmb/Chap-Multivariate.html#dimension-reduction \n",
    "\n",
    "![](images/PCA.png)"
   ]
  },
  {
   "cell_type": "markdown",
   "metadata": {},
   "source": [
    "### Not every projection is equally informative\n",
    "\n",
    "Compare the following 2D projections of a 3D object (an animal, in this case.) Which do you find more informative, and why? \n",
    "\n",
    "![](images/Shape1.png)\n",
    "\n",
    "![](images/Shape2.png)"
   ]
  },
  {
   "cell_type": "markdown",
   "metadata": {},
   "source": [
    "PCA is designed to identify a \"maximally informative transformation\": It takes the high-dimensional data and rotates it such that the rotated data columns correspond to the axes that encode the most variance in the data. \n",
    "\n",
    "![](images/PCA_rotation.png)\n",
    "\n",
    "(taken from https://towardsdatascience.com/principal-component-analysis-pca-explained-visually-with-zero-math-1cbf392b9e7d)\n",
    "\n",
    "In this case, the data is two-dimensional. If our data is higher-dimensional, PCA does exactly the same thing, but we cannot visualise the data anymore. PCA always rotates our entire data matrix, so in principle there are as many PCs as there are variables in out dataset. \n",
    "To visualise our data using PCA, we therefore only keep the first two principal components, that encode the two \"directions\" along which most variance in the data happens. This means we are losing some information, because some \"left-over\" variance also happens in the other PCs other than the first two. To understand the effect of this, we can look at the toy example again, and pretend we want to keep only the first PC for visualisation (this corresponds to having data that is higher-dimensional and reducing it to two dimensions). When keeping only the first PC, we would need to project all data points onto that first PC: \n",
    "\n",
    "![](images/PCA_projection.png)\n",
    "\n",
    "This idea exactly corresponds to the intro with the animal shape: It is a 3D-\"object\", and we make a 2D-visualisation of it by rotation and projection to 2D, ideally in a way that keeps most information about the object, i.e., that captures most variance. \n",
    "\n",
    "PCA in itself is a linear transformation, specifically a rotation. That means the rotation in itself does not alter distances between points. However, the projection to fewer dimensions changes distances between data points, because there is always some variation happening in other dimensions that we do not visualise. This variation affects the distances between points, and by projecting to lower dimensions, the distances become distorted because the difference in these other, \"discarded\" dimensions \"gets lost\": \n",
    "\n",
    "![](images/PCA_distances.png) ![](images/PCA_distances2.png)\n",
    "\n",
    "Points whose distance is mainly driven by differences in the second principal component (that we do not want to incorporate in our visualisation) appear much closer in the 1D-representation than in the original 2D-representation. This affects smaller distances more than larger distances: PCA is designed to keep the dimensions along which most variation happens. That means for points with large pairwise distances, these distances will roughly be captured by the first PCs, because PCA is specifically designed to capture the dimensions with large difference (=much variation) in the first PCs. As a result, smaller distances get distorted more than large distances. This is why it is often said that PCA preserves global distances well, but does not really preserve local distances. "
   ]
  },
  {
   "cell_type": "markdown",
   "metadata": {},
   "source": [
    "**So let's look at it!**"
   ]
  },
  {
   "cell_type": "code",
   "execution_count": null,
   "metadata": {},
   "outputs": [],
   "source": [
    "sc.tl.pca(adata, n_comps=100, svd_solver='arpack')\n",
    "adata"
   ]
  },
  {
   "cell_type": "code",
   "execution_count": null,
   "metadata": {},
   "outputs": [],
   "source": [
    "sc.pl.pca(adata)"
   ]
  },
  {
   "cell_type": "code",
   "execution_count": null,
   "metadata": {},
   "outputs": [],
   "source": [
    "adata"
   ]
  },
  {
   "cell_type": "code",
   "execution_count": null,
   "metadata": {},
   "outputs": [],
   "source": [
    "#sc.pl.pca(adata, color='CST3')\n",
    "sc.pl.pca(adata, color='CST3')\n",
    "sc.pl.pca(adata, color='leiden')"
   ]
  },
  {
   "cell_type": "markdown",
   "metadata": {},
   "source": [
    "Let us inspect the contribution of single PCs to the total variance in the data. This gives us information about how many PCs we should consider in order to compute the neighborhood relations of cells, e.g. used in the clustering function `sc.tl.louvain()` or tSNE `sc.tl.tsne()` (typically a rough estimate of the number of PCs does fine)."
   ]
  },
  {
   "cell_type": "code",
   "execution_count": null,
   "metadata": {},
   "outputs": [],
   "source": [
    "sc.pl.pca_variance_ratio(adata, log=True)"
   ]
  },
  {
   "cell_type": "code",
   "execution_count": null,
   "metadata": {},
   "outputs": [],
   "source": [
    "adata.write(results_file)"
   ]
  },
  {
   "cell_type": "markdown",
   "metadata": {},
   "source": [
    "## t-distributed stochastic neighbourhood embedding (tSNE)\n",
    "\n",
    "[van der Maaten, L. and Hinton, G. Visualizing data using t-SNE, JMLR 9, 2579-2605 (2008).](https://www.jmlr.org/papers/volume9/vandermaaten08a/vandermaaten08a.pdf)\n",
    "\n",
    "![](images/tSNE.png)"
   ]
  },
  {
   "cell_type": "code",
   "execution_count": null,
   "metadata": {},
   "outputs": [],
   "source": [
    "sc.tl.tsne(adata, \n",
    "            n_pcs=10, #10\n",
    "            perplexity=20, #30 \n",
    "            early_exaggeration=12, #12 \n",
    "            learning_rate=200, #1000\n",
    "            random_state=6, #0\n",
    "            metric=\"euclidean\"\n",
    ")\n",
    "adata"
   ]
  },
  {
   "cell_type": "code",
   "execution_count": null,
   "metadata": {},
   "outputs": [],
   "source": [
    "sc.pl.tsne(adata)"
   ]
  },
  {
   "cell_type": "code",
   "execution_count": null,
   "metadata": {},
   "outputs": [],
   "source": [
    "sc.pl.tsne(adata, color='leiden')\n",
    "sc.pl.tsne(adata, color=['CST3', 'NKG7', 'PPBP'])"
   ]
  },
  {
   "cell_type": "markdown",
   "metadata": {},
   "source": [
    "## Uniform Manifold Approximation and Projection (UMAP)\n",
    "\n",
    "[McInnes, L., Healy, J., Saul, N., Großberger, L. UMAP: Uniform manifold approximation and projection, Journal of Open Source Software, 3(29), 861 (2018)](https://doi.org/10.21105/joss.00861)\n",
    "\n",
    "![](images/UMAP.png)\n"
   ]
  },
  {
   "cell_type": "code",
   "execution_count": null,
   "metadata": {},
   "outputs": [],
   "source": [
    "sc.pp.neighbors(adata, n_neighbors=15, \n",
    "                n_pcs=20, \n",
    "                random_state=0, \n",
    "                metric='euclidean')\n",
    "sc.tl.umap(adata, \n",
    "            min_dist=0.1, #3 # 0.1\n",
    "            spread=0.3, #0.5\n",
    "            alpha=1, \n",
    "            gamma=1, \n",
    "            negative_sample_rate=5\n",
    ")\n",
    "adata"
   ]
  },
  {
   "cell_type": "code",
   "execution_count": null,
   "metadata": {},
   "outputs": [],
   "source": [
    "sc.pl.umap(adata)"
   ]
  },
  {
   "cell_type": "code",
   "execution_count": null,
   "metadata": {},
   "outputs": [],
   "source": [
    "sc.pl.umap(adata, color='leiden')\n",
    "sc.pl.umap(adata, color=['CST3', 'NKG7', 'PPBP'])"
   ]
  },
  {
   "cell_type": "markdown",
   "metadata": {},
   "source": [
    "## Single-cell Variational Inference (scVI)\n",
    "\n",
    "[Lopez, R., Regier, J., Cole, M.B. et al. Deep generative modeling for single-cell transcriptomics. Nat Methods 15, 1053–1058 (2018).](https://doi.org/10.1038/s41592-018-0229-2)\n",
    "\n",
    "![](images/scvitools.png)\n",
    "\n",
    "Part of the [`scvi-tools`](https://scvi-tools.org) universe: [Gayoso, A., Lopez, R., Xing, G. et al. A Python library for probabilistic analysis of single-cell omics data. Nat Biotechnol 40, 163–166 (2022).](https://doi.org/10.1038/s41587-021-01206-w).\n",
    "\n",
    "Many tutorials and extensive documentation can be found [here](https://docs.scvi-tools.org/en/stable/tutorials/notebooks/api_overview.html). "
   ]
  },
  {
   "cell_type": "markdown",
   "metadata": {},
   "source": [
    "![](images/VAE.png)\n",
    "\n",
    "**How it works in a bit more detail:**\n",
    "\n",
    "![](images/VAE_structure.png)"
   ]
  },
  {
   "cell_type": "markdown",
   "metadata": {},
   "source": [
    "**Pros** \n",
    "* very flexible \n",
    "* learns an explicit mapping as a function, that means new datapoints can easily be projected into the same learned embedding (possible also with PCA, for tSNE and UMAP the embedding needs to be re-trained)\n",
    "* customisable loss functions allow to specifically enforce different properties of the latent space (e.g., that latent dimensions are disentangled, correct for batch effects, etc.)\n",
    "* operates on raw counts, such that less pre-processing is required \n",
    "\n",
    "**Cons**\n",
    "* many hyperparameters, including choice of network architecture \n",
    "* typically only a (one of several) local optimum is found, training does not necessarily converge\n",
    "* typically a two-dimensional space may not be comprehensive enough, but a higher-dimensional representation is used (e.g., 10 dimensions) and UMAP is calculated on top of that "
   ]
  },
  {
   "cell_type": "code",
   "execution_count": null,
   "metadata": {},
   "outputs": [],
   "source": [
    "adata_scvi = adata.copy()\n",
    "adata_scvi"
   ]
  },
  {
   "cell_type": "code",
   "execution_count": null,
   "metadata": {},
   "outputs": [],
   "source": [
    "import scvi\n",
    "\n",
    "sc.pp.highly_variable_genes(\n",
    "    adata_scvi,\n",
    "    flavor=\"seurat_v3\",\n",
    "    n_top_genes=2000,\n",
    "    layer=\"counts\",\n",
    "    subset=True\n",
    ")\n",
    "adata_scvi"
   ]
  },
  {
   "cell_type": "code",
   "execution_count": null,
   "metadata": {},
   "outputs": [],
   "source": [
    "scvi.model.SCVI.setup_anndata(adata_scvi, layer=\"counts\")"
   ]
  },
  {
   "cell_type": "code",
   "execution_count": null,
   "metadata": {},
   "outputs": [],
   "source": [
    "vae = scvi.model.SCVI(adata_scvi, n_layers=2, n_latent=2, gene_likelihood=\"nb\")"
   ]
  },
  {
   "cell_type": "code",
   "execution_count": null,
   "metadata": {},
   "outputs": [],
   "source": [
    "vae.train(max_epochs=100, use_gpu=False)"
   ]
  },
  {
   "cell_type": "code",
   "execution_count": null,
   "metadata": {},
   "outputs": [],
   "source": [
    "adata.obsm[\"X_scVI\"] = vae.get_latent_representation()"
   ]
  },
  {
   "cell_type": "code",
   "execution_count": null,
   "metadata": {},
   "outputs": [],
   "source": [
    "sc.pl.embedding(\n",
    "    adata,\n",
    "    basis=\"X_scVI\",\n",
    "    frameon=False,\n",
    "    ncols=1,\n",
    "    color=\"leiden\"\n",
    ")\n",
    "sc.pl.embedding(\n",
    "    adata,\n",
    "    basis=\"X_scVI\",\n",
    "    frameon=False,\n",
    "    ncols=3,\n",
    "    color=['CST3', 'NKG7', 'PPBP']\n",
    ")"
   ]
  },
  {
   "cell_type": "markdown",
   "metadata": {},
   "source": [
    "Finally, a little advertisement: All this is also available in Julia (in case you're a fan :D):\n",
    "\n",
    "https://github.com/maren-ha/scVI.jl\n",
    "\n",
    "![](images/scvi-julia.png)"
   ]
  },
  {
   "cell_type": "markdown",
   "metadata": {},
   "source": [
    "## Comparison: Overview \n",
    "\n",
    "| **Approach** | **Basic idea** | **Linear vs. nonlinear** | **Global vs. local structure** | **Deterministic vs. random component** | **Type of input data** | **Hyperparameters** |\n",
    "|---------|-----------|---------------------|----------------------|-------------|-----------|-----------------|\n",
    "| PCA      | Rotate data and project to axes of greatest variarion | Linear | Preserves global distances | Deterministic (= gives always the same result, no random component) | Symmetric | None |\n",
    "| tSNE     | Preserve distributions of distances to nearest neighbors | Nonlinear | Only preserves local distances to nearest neighbors | Stochastic (=result dependent on random initialisation of the embedding)| Roughly Gaussian (in practice typically PCA embedding) | Perplexity (= \"how many neighbours to incorporate\"); learning rate; number of PCs on which to calculate neighbour graphs|\n",
    "| UMAP     | Preserve nearest-neighbor based graph structure  | Nonlinear | Focuses on local distances, but preserves some global structure because it embeds the complete graph | Stochastic (=result dependent on random initialiation of graph embedding + sampling edges for the optimisation) | Rescaled / symmetric (in practice typically PCA embedding)|Number of neighbors for the initial KNN graph; number of PCs for the initial KNN graph; minimum distance to neighbors; spread |\n",
    "| scVI | Uses neural networks to learn a compressed representation by encoding and decoding to and from a latent space | Nonlinear | Can preserve both global and local structure, dependent on loss function | Stochastic (=result depending on random initialisation of the network weights) | Raw counts | Number of epochs (=steps in the training); learning rate; network architecture (`n_layers`, decoder distribution); loss function design |"
   ]
  }
 ],
 "metadata": {
  "kernelspec": {
   "display_name": "Python 3 (ipykernel)",
   "language": "python",
   "name": "python3"
  },
  "language_info": {
   "codemirror_mode": {
    "name": "ipython",
    "version": 3
   },
   "file_extension": ".py",
   "mimetype": "text/x-python",
   "name": "python",
   "nbconvert_exporter": "python",
   "pygments_lexer": "ipython3",
   "version": "3.9.5"
  },
  "vscode": {
   "interpreter": {
    "hash": "d86a2776c10740f94a70d52e97f1f6d80afedb087b5ecc98b8fef928cb7c2509"
   }
  }
 },
 "nbformat": 4,
 "nbformat_minor": 2
}
